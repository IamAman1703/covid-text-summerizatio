{
 "cells": [
  {
   "cell_type": "markdown",
   "metadata": {},
   "source": [
    "<h1>Text Summarization of Covid-19 Dataset</h1>"
   ]
  },
  {
   "cell_type": "markdown",
   "metadata": {},
   "source": [
    "<h2>Importing required libraries</h2>"
   ]
  },
  {
   "cell_type": "code",
   "execution_count": 3,
   "metadata": {},
   "outputs": [
    {
     "name": "stderr",
     "output_type": "stream",
     "text": [
      "[nltk_data] Downloading package stopwords to\n",
      "[nltk_data]     /Users/ishaanpasricha/nltk_data...\n",
      "[nltk_data]   Package stopwords is already up-to-date!\n",
      "[nltk_data] Downloading package punkt to\n",
      "[nltk_data]     /Users/ishaanpasricha/nltk_data...\n",
      "[nltk_data]   Package punkt is already up-to-date!\n"
     ]
    }
   ],
   "source": [
    "import nltk\n",
    "nltk.download('stopwords')\n",
    "nltk.download('punkt')\n",
    "from nltk.corpus import stopwords\n",
    "from nltk.tokenize import word_tokenize, sent_tokenize\n",
    "from nltk.stem import PorterStemmer\n",
    "import glob\n",
    "\n",
    "from sklearn.feature_extraction.text import TfidfVectorizer\n",
    "from spacy.lang.en import English\n",
    "import numpy as np"
   ]
  },
  {
   "cell_type": "markdown",
   "metadata": {},
   "source": [
    "<h2>Loading model</h2>"
   ]
  },
  {
   "cell_type": "code",
   "execution_count": 30,
   "metadata": {},
   "outputs": [],
   "source": [
    "nlp = English()\n",
    "nlp.add_pipe(nlp.create_pipe('sentencizer'))"
   ]
  },
  {
   "cell_type": "code",
   "execution_count": 31,
   "metadata": {},
   "outputs": [],
   "source": [
    "files = [open(file,'rb') for file in glob.glob(\"/Users/ishaanpasricha/Documents/Thapar/Sem 5/ELC/COVID_19_dataset/documents/*\")]"
   ]
  },
  {
   "cell_type": "code",
   "execution_count": 32,
   "metadata": {},
   "outputs": [],
   "source": [
    "text =[]\n",
    "for f in files:\n",
    "    t1 = f.read()\n",
    "    text.append(t1)\n",
    "    f.close()"
   ]
  },
  {
   "cell_type": "code",
   "execution_count": 33,
   "metadata": {},
   "outputs": [],
   "source": [
    "master_text = ' '.join(map(str, text)) "
   ]
  },
  {
   "cell_type": "markdown",
   "metadata": {},
   "source": [
    "<h2>Tokenization</h2>"
   ]
  },
  {
   "cell_type": "code",
   "execution_count": 34,
   "metadata": {},
   "outputs": [],
   "source": [
    "sent_token = nltk.sent_tokenize(master_text)\n",
    "word_token = nltk.word_tokenize(master_text)\n",
    "\n",
    "word_tokens_lower = [ word.lower() for word in word_token]\n",
    "\n",
    "stopWords = stopwords.words('english')\n",
    "\n",
    "word_token_refined = [ word for word in word_tokens_lower if word not in stopWords]"
   ]
  },
  {
   "cell_type": "markdown",
   "metadata": {},
   "source": [
    "<h2>Lemmatization</h2>"
   ]
  },
  {
   "cell_type": "code",
   "execution_count": 35,
   "metadata": {},
   "outputs": [
    {
     "name": "stdout",
     "output_type": "stream",
     "text": [
      "4618\n",
      "2947\n"
     ]
    },
    {
     "name": "stderr",
     "output_type": "stream",
     "text": [
      "[nltk_data] Downloading package wordnet to\n",
      "[nltk_data]     /Users/ishaanpasricha/nltk_data...\n",
      "[nltk_data]   Package wordnet is already up-to-date!\n"
     ]
    }
   ],
   "source": [
    "nltk.download('wordnet')\n",
    "from nltk.stem.wordnet import WordNetLemmatizer\n",
    "lm = WordNetLemmatizer()\n",
    "lem = []\n",
    "for word in word_token_refined:\n",
    "    lem.append(lm.lemmatize(word))\n",
    "word_token_refined = lem\n",
    "\n",
    "print(len(word_token))\n",
    "print(len(word_token_refined))"
   ]
  },
  {
   "cell_type": "markdown",
   "metadata": {},
   "source": [
    "<h2>PorterStemmer</h2>"
   ]
  },
  {
   "cell_type": "code",
   "execution_count": 36,
   "metadata": {},
   "outputs": [],
   "source": [
    "ps = PorterStemmer()\n",
    "stem = []\n",
    "for word in word_token_refined:\n",
    "    stem.append(ps.stem(word))\n",
    "word_token_refined = stem"
   ]
  },
  {
   "cell_type": "markdown",
   "metadata": {},
   "source": [
    "<h2>Frequency Distribution</h2>"
   ]
  },
  {
   "cell_type": "code",
   "execution_count": 37,
   "metadata": {},
   "outputs": [
    {
     "data": {
      "image/png": "[encoded data removed]",
      "text/plain": [
       "<Figure size 432x288 with 1 Axes>"
      ]
     },
     "metadata": {
      "needs_background": "light"
     },
     "output_type": "display_data"
    }
   ],
   "source": [
    "from nltk.probability import FreqDist\n",
    "fdist = FreqDist(word_token_refined)\n",
    "#print(fdist)\n",
    "import matplotlib.pyplot as plt\n",
    "fdist.plot(50,cumulative=False)\n",
    "plt.show()"
   ]
  },
  {
   "cell_type": "markdown",
   "metadata": {},
   "source": [
    "<h2>Create Frequency Distribution of words in the document</h2>"
   ]
  },
  {
   "cell_type": "code",
   "execution_count": 38,
   "metadata": {},
   "outputs": [],
   "source": [
    "FreqTable={}\n",
    "for word in word_token_refined:\n",
    "    if word in FreqTable:\n",
    "        FreqTable[word]+=1\n",
    "    else:\n",
    "        FreqTable[word]=1"
   ]
  },
  {
   "cell_type": "code",
   "execution_count": 39,
   "metadata": {},
   "outputs": [],
   "source": [
    "sent_value= {}\n",
    "\n",
    "for sent in sent_token:\n",
    "    sent_value[sent] = 0\n",
    "    for word,freq in FreqTable.items():\n",
    "        if word in sent.lower():\n",
    "            sent_value[sent] = sent_value[sent] + freq"
   ]
  },
  {
   "cell_type": "code",
   "execution_count": 40,
   "metadata": {},
   "outputs": [],
   "source": [
    "sum = 0\n",
    "for sent in sent_value:\n",
    "    sum +=sent_value[sent]\n",
    "avg = int(sum/len(sent_value))\n",
    "\n",
    "summary = \"\"\n",
    "\n",
    "for sent in sent_value:\n",
    "    if (sent_value[sent] >= 1.2*avg):\n",
    "        summary = summary + \" \" + sent"
   ]
  },
  {
   "cell_type": "code",
   "execution_count": 41,
   "metadata": {},
   "outputs": [
    {
     "name": "stdout",
     "output_type": "stream",
     "text": [
      " On 24 April, WHO launched the Access to COVID-19 Tools (ACT) Accelerator, which is a global collaboration to accelerate development, production and equitable access to COVID-19 tests, treatments and vaccines. When a safe and effective vaccine is available, Gavi\\x92s COVAX Advance Market Commitment (AMC), will be used to pay for the doses allocated to developing countries. In addition to accelerating research and ensuring manufacturing capacity for COVID-19 vaccines, WHO has supported the Royal Government of Cambodia to strengthen its regulatory capacity, draft a COVID-19 National Deployment and Vaccination Plan (NDVP) and assess immunization supply chain management. b'World Health Assembly charts course for COVID-19 response and global health priorities.\\r\\nAs health leaders prepare to gather for a virtual session of the resumed 73rd World Health Assembly (WHA), WHO has three messages to share. b'Success from two leading coronavirus vaccine programs likely means other frontrunners will also show strong protection against COVID-19, Bill Gates said Tuesday.\\r\\n\\r\\nThe fact that two coronavirus vaccines recently showed strong protection against COVID-19 bodes well for other leading programs led by AstraZeneca, Novavax, and Johnson & Johnson, Bill Gates said Tuesday.The billionaire Microsoft founder and philanthropist said it will be easier to boost manufacturing and distribute these other shots to the entire world, particularly developing nations.The vaccine space has seen a flurry of good news in recent days, marked by overwhelming success in late-stage trials by both Pfizer and Moderna. b'Coronavirus: Inside test-and-trace - how the \\'world beater\\' went wrong.\\r\\nJust half of close contacts given to England\\'s NHS Test and Trace are being reached in some areas, a BBC investigation has found.\\r\\n\\r\\nSix months after Boris Johnson promised a \"world beating\" system, it can be shown the network is failing in areas with some of the worst infection rates.\\r\\n\\r\\nThe research also found no-one from NHS labs was at a key government meeting with private firms about testing.\\r\\n\\r\\nBut the government said the system was \"undoubtedly\" curbing Covid spreading.\\r\\n\\r\\nIt added that NHS Test and Trace was dealing with rising numbers of cases and was working hard to \"refine and improve\" the way it worked.\\r\\n\\r\\nThe companies and their leaders involved with testing had \"hundreds of years\" of experience in the field, it said.\\r\\n\\r\\nAs ministers struggle to get test-and-trace on track, BBC News spoke to key government figures, scientists and health officials who were involved from the very start to establish what went wrong - and, crucially, whether the system can be fixed to hold the virus in check until vaccines come to the rescue. Private firms play a key role in terms of both testing and tracing, which has meant some of the local expertise available in the NHS, universities and councils has been bypassed.\\r\\n' b'New Zealand takes early and hard action to tackle COVID-19.\\r\\n\\r\\nThree days after WHO declared the coronavirus outbreak a public health emergency of international concern on 30 January 2020, New Zealand began introducing disease prevention measures and continued strengthening them in the weeks that followed. But there are concerns that poorer nations could get left behind.\\r\\n\\r\\nWe have spoken to the experts about the main concerns that lie ahead and whether efforts to come up with a fair system will actually work.\\r\\n\\r\\nThe rush to buy in advance\\r\\nEarly results indicate that at least two vaccines are highly effective, several others have reached late-stage trials, and many more are at some stage of development.\\r\\n\\r\\nNone of these vaccines has been approved yet, but that hasn\\'t stopped countries purchasing doses in advance.\\r\\n\\r\\nA key research centre in the US - Duke University in North Carolina - is trying to keep tabs on all the deals being done. It estimates that 6.4 billion doses of potential vaccines have already been bought, and another 3.2 billion are either under negotiation or reserved as \"optional expansions of existing deals\".\\r\\n\\r\\nThe process of advance purchasing is well established in the pharmaceutical industry, as it can help to incentivise the development of products and fund trials, according to Clare Wenham, assistant professor of global health policy at the London School of Economics and Political Science.\\r\\n\\r\\nHow soon can we expect a working vaccine?\\r\\nBut it also means that whoever can pay the most at the earliest stage of production gets to the front of the queue, she says. While other countries with the infrastructure to host clinical trials - such as Brazil and Mexico - have been able to use that as leverage in procuring future vaccines.\\r\\n\\r\\nIndia\\'s Serum Institute, for example, has committed to keeping half of all doses it produces for in-country distribution. Meanwhile, Indonesia is partnering with Chinese vaccine developers and Brazil is partnering with the trials run by the University of Oxford and pharmaceutical company AstraZeneca.\\r\\nBecause we do not yet know which vaccines will work, some countries are hedging their bets by purchasing multiple options. India, the EU, the US, Canada and the UK are among the countries which have reserved the most doses, according to the latest data.\\r\\n\\r\\nThe World Health Organization (WHO) told the BBC it was \"understandable that leaders want to protect their own people first - they are accountable to their citizens - but the response to this global pandemic must be collective\".\\r\\n\\r\\nDelivering a limited supply to the world\\r\\nAndrea Taylor, who has been leading the Duke analysis, said the combination of advance purchase agreements and limits on the number of doses that can be manufactured in the next couple of years meant \"we\\'re heading into a scenario where the rich countries will have vaccines and the poorer countries are unlikely to have access\".\\r\\n\\r\\nExperts note that we do not know yet how many vaccines might make it on to the market, or when they will become available. Deals are still being made, and questions remain about details of distribution.\\r\\n\\r\\nAccording to Chandrakant Lahariya, co-author of the upcoming book Till We Win: India\\'s Fight Against the Covid-19 Pandemic, availability in poorer countries could depend on how many vaccines are developed, how quickly and where they are manufactured.\\r\\n\\r\\n\"There are vaccines developed in India, and with our production capacity I foresee that the price could come down very quickly and availability in low- and middle-income countries will be very high. \"\\r\\n\\r\\nModerna Covid vaccine shows nearly 95% protection\\r\\nUK orders 5m doses of Moderna vaccine\\r\\nHow a \\'warm vaccine\\' could help India tackle Covid\\r\\nRachel Silverman, a policy analyst at the Center for Global Development think-tank in the US, said the most promising vaccines \"are largely covered by advanced purchase agreements, mostly from wealthy countries\".\\r\\n\\r\\n\"However, the big asterisk is that if there are many successful vaccines, there will be enough overall supply so that the wealthy countries would not necessarily exercise all their options. \"\\r\\n\\r\\nMs Silverman said recent announcements about some vaccines reaching more than 90% effectiveness - notably those from pharmaceutical companies Pfizer and Moderna - were \"exceptional scientific news\".\\r\\n\\r\\nBut she added: \"There is very little likelihood that it will make it to low- and middle-income countries by the end of next year, at least in any significant numbers for mass vaccination. Each person needs two doses.\\r\\n\\r\\n\"Just doing the maths\\x85 you can see it\\'s not enough to go around [from that alone],\" Ms Silverman said.\\r\\n\\r\\nHowever, she says now Moderna has also shown similarly promising results, there is more hope, as even more vaccines could follow.\\r\\n\\r\\nThe Moderna vaccine also has fewer requirements about cold storage, which has been a concern for poorer countries, particularly in warmer areas, and those with remote areas and limited electricity.\\r\\n\\r\\nA new landmark distribution plan\\r\\nOf course inequality in global health is nothing new. \"\\r\\n\\r\\nA landmark global vaccine plan known as Covax is seeking to ensure an equitable distribution of future coronavirus vaccines.\\r\\n\\r\\nThe joint initiative - between the Gavi vaccines alliance, the WHO and the Coalition for Epidemic Preparedness Innovations (CEPI) - aims to procure enough vaccines for participating countries to inoculate at least 20% of their populations.' But as you slip on your favourite summer top and shorts, you may break out in a hot sweat... as you realise you are also likely to be enduring part of your day in a face mask.\\r\\n\\r\\nKeeping cool while wearing a facial covering might be more difficult, but we\\'ve gathered some tips.\\r\\n\"We have all got to wear masks here, but there\\'s a few things you can do,\" says consultant dermatologist Dr Adil Sheraz, who works at a London NHS hospital.\\r\\n\\r\\nThe top tip for him is to choose a mask made from a breathable material, such as cotton or even bamboo.\\r\\n\\r\\nHe says although surgical masks - the thin, blue masks that many people are seen wearing - provide protection from spreading the virus, they aren\\'t that breathable and \"they are not the best to use for keeping cool\".\\r\\n\\r\\nBut he adds that one downside to cotton masks is that they absorb more fluid and can get damp - so he suggests taking a spare out on hot days.\\r\\n\\r\\nThe colour of the mask might also help. b'Coronavirus: Global Covid-19 death toll passes one million.\\r\\nThe number of people worldwide who have died with Covid-19 has passed one million, researchers say, with many regions still reporting surging numbers of new infections.\\r\\n\\r\\nThe tally by Johns Hopkins University shows that deaths in the US, Brazil and India make up nearly half that total.\\r\\n\\r\\nExperts caution that the true figure is probably much higher.\\r\\n\\r\\nUN Secretary-General Ant\\xf3nio Guterres called it a \"mind-numbing\" figure and \"an agonising milestone\".\\r\\n\\r\\n\"Yet we must never lose sight of each and every individual life,\" he said in a video message.\\r\\n\\r\\n\"They were fathers and mothers, wives and husbands, brothers and sisters, friends and colleagues. Lockdowns and other measures to try to stop the virus spreading have thrown many economies into recession.\\r\\n\\r\\nMeanwhile, efforts to develop an effective vaccine are continuing - although the World Health Organization (WHO) has warned that the death toll could hit two million before one is widely available.' b'\\'Vaccines for all\\', and Patel \\'bullying\\' row.\\r\\nBoth the Guardian and the Times compare Boris Johnson\\'s refusal to sack Priti Patel to his defence of Dominic Cummings\\'s trip to Barnard Castle during the first lockdown.\\r\\n\\r\\nFor the Times, the prime minister has again expended political capital by standing by a wounded colleague whom he may yet have to dismiss if further damaging details emerge.\\r\\n\\r\\nAccording to the Guardian, No 10\\'s determination to \"brazen out\" the row is another sign that Mr Johnson sees following the rules as unnecessary for \"his gang\".\\r\\n\\r\\nThe Daily Star also weighs in, asking what it would take to get sacked from this government.\\r\\n\\r\\nHowever, the Sun argues that Labour\\'s \"indignation is a sham\".\\r\\n\\r\\nFair enough, it says, that Ms Patel has apologised if some staff felt they were being bullied - rather than being urged to \"raise their game\".\\r\\n\\r\\nBut some bosses, it says, are highly effective while being demanding and blunt - and the home secretary has been busy \"shaking up\" a \"dysfunctional\" department.\\r\\n\\r\\nThe Daily Mail agrees. It says no one should condone bullying in the workplace.\\r\\nBut Ms Patel\\'s job requires passion - and not \"haughty Sir Humphreys deploying every trick to impede demanding, but popular, policies\".\\r\\n\\r\\nA number of front pages celebrate the prospect of what the i weekend bills as \"Vaccines for all by Easter\".\\r\\n\\r\\nSo it is \"Covid-19 Jabs For All By Spring\" in the Daily Express, and \"Virus Jabs For All By April\" in the Daily Mirror.\\r\\n\\r\\nA leaked timetable has revealed that care home residents and staff, health workers, and people over 80 could get the Pfizer jab, if it is approved, next month.\\r\\n\\r\\nThe Daily Mail reports that the 14-day quarantine rule for people arriving in Britain from most countries will be eased next week.\\r\\n\\r\\nThe paper says ministers have approved a plan to cut the isolation time to just five days, after which travellers would face tests for the virus that return results within an hour.\\r\\n\\r\\nA Whitehall source tells the Mail the move could \"make a huge difference\" to the aviation and travel industries.' b'Coronavirus: Belgium facing \\'tsunami\\' of new infections.\\r\\nBelgium could soon be overwhelmed by new coronavirus infections, the health minister has warned, amid soaring case numbers across the country.\\r\\n\\r\\nFrank Vandenbroucke said new cases were close to a \"tsunami\" where authorities \"no longer control what is happening\".\\r\\n\\r\\nNew measures to try to halt the spread came into force on Monday. All bars and restaurants are closed for four weeks.\\r\\n\\r\\nInfection numbers are climbing throughout Europe, prompting new restrictions across the continent.\\r\\n\\r\\nItaly announced a raft of measures on Sunday after recording its highest daily infection rate, while nine major French cities have been placed under curfew.\\r\\n\\r\\nThe Czech Republic - which has the highest infection rate on the continent - is considering a full national lockdown.\\r\\n\\r\\nAnd the Republic of Ireland is to move into the highest level of coronavirus restrictions from midnight on Wednesday for six weeks.\\r\\nBelgium was one of the worst-hit countries during Europe\\'s first wave of coronavirus earlier this year.\\r\\n\\r\\nOverall it has the third-highest number of Covid-related deaths per 100,000 people globally, behind only Peru and San Marino, according to Johns Hopkins University data.\\r\\n\\r\\nFrom Monday, under new government restrictions designed to tackle the fresh outbreak, residents will only be allowed to see one other person from outside their household and should work from home if possible.\\r\\n\\r\\nA curfew is in place from midnight until 05:00 for the next month and alcohol sales are banned from 20:00.\\r\\n\\r\\nHow new lockdowns are changing life across Europe\\r\\nTracking the global pandemic: Where has been hit hardest?\\r\\nMr Vandenbroucke described the situation in the capital Brussels and in the south of the country as \"the most dangerous in all of Europe\".\\r\\n\\r\\nThe government \"has only one message to the public: protect yourself, protect your loved ones, so as not to be contaminated\", he told broadcaster RTL.\\r\\nAccording to the Belgian health institute Sciensano, Belgium has recorded an average of 7,876 new daily infections over the last seven days, a 79% rise on the previous week.\n"
     ]
    }
   ],
   "source": [
    "print(summary)"
   ]
  },
  {
   "cell_type": "markdown",
   "metadata": {},
   "source": [
    "<h1>Term Frequency Inverse Data Frequency (TFIDF) Vectorizer</h1>"
   ]
  },
  {
   "cell_type": "code",
   "execution_count": 42,
   "metadata": {},
   "outputs": [],
   "source": [
    "doc = nlp(master_text.replace(\"\\n\", \"\"))\n",
    "sentences = [sent.string.strip() for sent in doc.sents]"
   ]
  },
  {
   "cell_type": "code",
   "execution_count": 43,
   "metadata": {},
   "outputs": [],
   "source": [
    "sentence_organizer = {k:v for v,k in enumerate(sentences)}"
   ]
  },
  {
   "cell_type": "markdown",
   "metadata": {},
   "source": [
    "<h2>Creating TF-IDF model</h2>"
   ]
  },
  {
   "cell_type": "code",
   "execution_count": 44,
   "metadata": {},
   "outputs": [],
   "source": [
    "tf_idf_vectorizer = TfidfVectorizer(min_df=2,  max_features=None, \n",
    "                                    strip_accents='unicode', \n",
    "                                    analyzer='word',\n",
    "                                    token_pattern=r'\\w{1,}',\n",
    "                                    ngram_range=(1, 3), \n",
    "                                    use_idf=1,smooth_idf=1,\n",
    "                                    sublinear_tf=1,\n",
    "                                    stop_words = 'english')"
   ]
  },
  {
   "cell_type": "code",
   "execution_count": 45,
   "metadata": {},
   "outputs": [
    {
     "data": {
      "text/plain": [
       "TfidfVectorizer(min_df=2, ngram_range=(1, 3), smooth_idf=1,\n",
       "                stop_words='english', strip_accents='unicode', sublinear_tf=1,\n",
       "                token_pattern='\\\\w{1,}', use_idf=1)"
      ]
     },
     "execution_count": 45,
     "metadata": {},
     "output_type": "execute_result"
    }
   ],
   "source": [
    "tf_idf_vectorizer.fit(sentences)"
   ]
  },
  {
   "cell_type": "code",
   "execution_count": 46,
   "metadata": {},
   "outputs": [],
   "source": [
    "# Transforming our sentences to TF-IDF vectors\n",
    "sentence_vectors = tf_idf_vectorizer.transform(sentences)"
   ]
  },
  {
   "cell_type": "markdown",
   "metadata": {},
   "source": [
    "<h2>Performing sentence scoring</h2>"
   ]
  },
  {
   "cell_type": "code",
   "execution_count": 47,
   "metadata": {},
   "outputs": [
    {
     "name": "stdout",
     "output_type": "stream",
     "text": [
      "True\n"
     ]
    }
   ],
   "source": [
    "# Getting sentence scores for each sentences\n",
    "sentence_scores = np.array(sentence_vectors.sum(axis=1)).ravel()\n",
    "\n",
    "# Sanity checkup\n",
    "print(len(sentences) == len(sentence_scores))"
   ]
  },
  {
   "cell_type": "code",
   "execution_count": 48,
   "metadata": {},
   "outputs": [],
   "source": [
    "# Getting top-n sentences\n",
    "N = 3\n",
    "top_n_sentences = [sentences[ind] for ind in np.argsort(sentence_scores, axis=0)[::-1][:N]]"
   ]
  },
  {
   "cell_type": "markdown",
   "metadata": {},
   "source": [
    "<h2>Performing final summarization</h2>"
   ]
  },
  {
   "cell_type": "code",
   "execution_count": 49,
   "metadata": {},
   "outputs": [
    {
     "name": "stdout",
     "output_type": "stream",
     "text": [
      "Our top_n_sentence with their index: \n",
      "\n",
      "('Concerned that COVID-19 could be transmitted through New Zealand to Pacific island countries \\\\x96 which are some of the only places still free of COVID-19 \\\\x96 the Ministry of Health and Ministry of Foreign Affairs and Trade worked closely with WHO to support their neighbours in the Pacific.', 61)\n",
      "('Concerned that COVID-19 could be transmitted through New Zealand to Pacific island countries \\\\x96 which are some of the only places still free of COVID-19 \\\\x96 the Ministry of Health and Ministry of Foreign Affairs and Trade worked closely with WHO to support their neighbours in the Pacific.', 61)\n",
      "(\"All bars and restaurants are closed for four weeks.\\\\r\\\\n\\\\r\\\\nInfection numbers are climbing throughout Europe, prompting new restrictions across the continent.\\\\r\\\\n\\\\r\\\\nItaly announced a raft of measures on Sunday after recording its highest daily infection rate, while nine major French cities have been placed under curfew.\\\\r\\\\n\\\\r\\\\nThe Czech Republic - which has the highest infection rate on the continent - is considering a full national lockdown.\\\\r\\\\n\\\\r\\\\nAnd the Republic of Ireland is to move into the highest level of coronavirus restrictions from midnight on Wednesday for six weeks.\\\\r\\\\nBelgium was one of the worst-hit countries during Europe\\\\'s first wave of coronavirus earlier this year.\\\\r\\\\n\\\\r\\\\nOverall it has the third-highest number of Covid-related deaths per 100,000 people globally, behind only Peru and San Marino, according to Johns Hopkins University data.\\\\r\\\\n\\\\r\\\\nFrom Monday, under new government restrictions designed to tackle the fresh outbreak, residents will only be allowed to see one other person from outside their household and should work from home if possible.\\\\r\\\\n\\\\r\\\\nA curfew is in place from midnight until 05:00 for the next month and alcohol sales are banned from 20:00.\\\\r\\\\n\\\\r\\\\nHow new lockdowns are changing life across Europe\\\\r\\\\nTracking the global pandemic:\", 101)\n"
     ]
    }
   ],
   "source": [
    "# Let's now do the sentence ordering using our prebaked sentence_organizer\n",
    "# Let's map the scored sentences with their indexes\n",
    "mapped_top_n_sentences = [(sentence,sentence_organizer[sentence]) for sentence in top_n_sentences]\n",
    "print(\"Our top_n_sentence with their index: \\n\")\n",
    "for element in mapped_top_n_sentences:\n",
    "    print(element)\n",
    "\n",
    "# Ordering our top-n sentences in their original ordering\n",
    "mapped_top_n_sentences = sorted(mapped_top_n_sentences, key = lambda x: x[1])\n",
    "ordered_scored_sentences = [element[0] for element in mapped_top_n_sentences]\n",
    "\n",
    "# Our final summary\n",
    "summary = \" \".join(ordered_scored_sentences)"
   ]
  },
  {
   "cell_type": "code",
   "execution_count": 50,
   "metadata": {},
   "outputs": [
    {
     "name": "stdout",
     "output_type": "stream",
     "text": [
      "Concerned that COVID-19 could be transmitted through New Zealand to Pacific island countries \\x96 which are some of the only places still free of COVID-19 \\x96 the Ministry of Health and Ministry of Foreign Affairs and Trade worked closely with WHO to support their neighbours in the Pacific. Concerned that COVID-19 could be transmitted through New Zealand to Pacific island countries \\x96 which are some of the only places still free of COVID-19 \\x96 the Ministry of Health and Ministry of Foreign Affairs and Trade worked closely with WHO to support their neighbours in the Pacific. All bars and restaurants are closed for four weeks.\\r\\n\\r\\nInfection numbers are climbing throughout Europe, prompting new restrictions across the continent.\\r\\n\\r\\nItaly announced a raft of measures on Sunday after recording its highest daily infection rate, while nine major French cities have been placed under curfew.\\r\\n\\r\\nThe Czech Republic - which has the highest infection rate on the continent - is considering a full national lockdown.\\r\\n\\r\\nAnd the Republic of Ireland is to move into the highest level of coronavirus restrictions from midnight on Wednesday for six weeks.\\r\\nBelgium was one of the worst-hit countries during Europe\\'s first wave of coronavirus earlier this year.\\r\\n\\r\\nOverall it has the third-highest number of Covid-related deaths per 100,000 people globally, behind only Peru and San Marino, according to Johns Hopkins University data.\\r\\n\\r\\nFrom Monday, under new government restrictions designed to tackle the fresh outbreak, residents will only be allowed to see one other person from outside their household and should work from home if possible.\\r\\n\\r\\nA curfew is in place from midnight until 05:00 for the next month and alcohol sales are banned from 20:00.\\r\\n\\r\\nHow new lockdowns are changing life across Europe\\r\\nTracking the global pandemic:\n"
     ]
    }
   ],
   "source": [
    "print(summary)"
   ]
  },
  {
   "cell_type": "markdown",
   "metadata": {},
   "source": [
    "<h1>Question Answer</h1>"
   ]
  },
  {
   "cell_type": "markdown",
   "metadata": {},
   "source": [
    "<h3>Question</h3>\n",
    "    <h4>What is WHO's verdict on COVID-19?</h4>"
   ]
  },
  {
   "cell_type": "code",
   "execution_count": 51,
   "metadata": {},
   "outputs": [],
   "source": [
    "# Question Answer\n",
    "count=0\n",
    "who_verdict = \"\"\n",
    "for sent in sent_value:\n",
    "    if (\"WHO\" in sent):\n",
    "        if (sent_value[sent] >= 1.2*avg):\n",
    "            who_verdict = who_verdict + \"\\n\" + sent\n",
    "            count +=1\n",
    "\n",
    "            \n",
    "\n",
    "quest = \"What is WHO's verdict on COVID-19?\"\n",
    "answer = who_verdict"
   ]
  },
  {
   "cell_type": "code",
   "execution_count": 52,
   "metadata": {},
   "outputs": [
    {
     "name": "stdout",
     "output_type": "stream",
     "text": [
      "\n",
      "On 24 April, WHO launched the Access to COVID-19 Tools (ACT) Accelerator, which is a global collaboration to accelerate development, production and equitable access to COVID-19 tests, treatments and vaccines.\n",
      "In addition to accelerating research and ensuring manufacturing capacity for COVID-19 vaccines, WHO has supported the Royal Government of Cambodia to strengthen its regulatory capacity, draft a COVID-19 National Deployment and Vaccination Plan (NDVP) and assess immunization supply chain management.\n",
      "b'World Health Assembly charts course for COVID-19 response and global health priorities.\\r\\nAs health leaders prepare to gather for a virtual session of the resumed 73rd World Health Assembly (WHA), WHO has three messages to share.\n",
      "Private firms play a key role in terms of both testing and tracing, which has meant some of the local expertise available in the NHS, universities and councils has been bypassed.\\r\\n' b'New Zealand takes early and hard action to tackle COVID-19.\\r\\n\\r\\nThree days after WHO declared the coronavirus outbreak a public health emergency of international concern on 30 January 2020, New Zealand began introducing disease prevention measures and continued strengthening them in the weeks that followed.\n",
      "India, the EU, the US, Canada and the UK are among the countries which have reserved the most doses, according to the latest data.\\r\\n\\r\\nThe World Health Organization (WHO) told the BBC it was \"understandable that leaders want to protect their own people first - they are accountable to their citizens - but the response to this global pandemic must be collective\".\\r\\n\\r\\nDelivering a limited supply to the world\\r\\nAndrea Taylor, who has been leading the Duke analysis, said the combination of advance purchase agreements and limits on the number of doses that can be manufactured in the next couple of years meant \"we\\'re heading into a scenario where the rich countries will have vaccines and the poorer countries are unlikely to have access\".\\r\\n\\r\\nExperts note that we do not know yet how many vaccines might make it on to the market, or when they will become available.\n",
      "\"\\r\\n\\r\\nA landmark global vaccine plan known as Covax is seeking to ensure an equitable distribution of future coronavirus vaccines.\\r\\n\\r\\nThe joint initiative - between the Gavi vaccines alliance, the WHO and the Coalition for Epidemic Preparedness Innovations (CEPI) - aims to procure enough vaccines for participating countries to inoculate at least 20% of their populations.'\n",
      "Lockdowns and other measures to try to stop the virus spreading have thrown many economies into recession.\\r\\n\\r\\nMeanwhile, efforts to develop an effective vaccine are continuing - although the World Health Organization (WHO) has warned that the death toll could hit two million before one is widely available.'\n"
     ]
    }
   ],
   "source": [
    "print(answer)"
   ]
  }
 ],
 "metadata": {
  "kernelspec": {
   "display_name": "Python 3",
   "language": "python",
   "name": "python3"
  },
  "language_info": {
   "codemirror_mode": {
    "name": "ipython",
    "version": 3
   },
   "file_extension": ".py",
   "mimetype": "text/x-python",
   "name": "python",
   "nbconvert_exporter": "python",
   "pygments_lexer": "ipython3",
   "version": "3.8.3"
  }
 },
 "nbformat": 4,
 "nbformat_minor": 4
}
